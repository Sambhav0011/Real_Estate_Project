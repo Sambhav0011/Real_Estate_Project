{
 "cells": [
  {
   "cell_type": "code",
   "execution_count": 1,
   "id": "6a4a2867",
   "metadata": {},
   "outputs": [],
   "source": [
    "import numpy as np\n",
    "import pandas as pd"
   ]
  },
  {
   "cell_type": "code",
   "execution_count": 2,
   "id": "1c25e8bb",
   "metadata": {},
   "outputs": [],
   "source": [
    "import warnings\n",
    "warnings.filterwarnings('ignore')"
   ]
  },
  {
   "cell_type": "markdown",
   "id": "7aa4086e",
   "metadata": {},
   "source": [
    "# Loading the dataset and its analysis"
   ]
  },
  {
   "cell_type": "code",
   "execution_count": 3,
   "id": "aa41898c",
   "metadata": {},
   "outputs": [],
   "source": [
    "df = pd.read_csv(\"Indian_housing_Delhi_data.csv\")"
   ]
  },
  {
   "cell_type": "code",
   "execution_count": 4,
   "id": "a216961e",
   "metadata": {},
   "outputs": [
    {
     "data": {
      "text/html": [
       "<div>\n",
       "<style scoped>\n",
       "    .dataframe tbody tr th:only-of-type {\n",
       "        vertical-align: middle;\n",
       "    }\n",
       "\n",
       "    .dataframe tbody tr th {\n",
       "        vertical-align: top;\n",
       "    }\n",
       "\n",
       "    .dataframe thead th {\n",
       "        text-align: right;\n",
       "    }\n",
       "</style>\n",
       "<table border=\"1\" class=\"dataframe\">\n",
       "  <thead>\n",
       "    <tr style=\"text-align: right;\">\n",
       "      <th></th>\n",
       "      <th>house_type</th>\n",
       "      <th>house_size</th>\n",
       "      <th>location</th>\n",
       "      <th>city</th>\n",
       "      <th>latitude</th>\n",
       "      <th>longitude</th>\n",
       "      <th>price</th>\n",
       "      <th>currency</th>\n",
       "      <th>numBathrooms</th>\n",
       "      <th>numBalconies</th>\n",
       "      <th>isNegotiable</th>\n",
       "      <th>priceSqFt</th>\n",
       "      <th>verificationDate</th>\n",
       "      <th>description</th>\n",
       "      <th>SecurityDeposit</th>\n",
       "      <th>Status</th>\n",
       "    </tr>\n",
       "  </thead>\n",
       "  <tbody>\n",
       "    <tr>\n",
       "      <th>0</th>\n",
       "      <td>1 RK Studio Apartment</td>\n",
       "      <td>400 sq ft</td>\n",
       "      <td>Kalkaji</td>\n",
       "      <td>Delhi</td>\n",
       "      <td>28.545561</td>\n",
       "      <td>77.254349</td>\n",
       "      <td>22000</td>\n",
       "      <td>INR</td>\n",
       "      <td>1.0</td>\n",
       "      <td>NaN</td>\n",
       "      <td>NaN</td>\n",
       "      <td>NaN</td>\n",
       "      <td>Posted a day ago</td>\n",
       "      <td>Fully furnished, loaded with amenities &amp; gadge...</td>\n",
       "      <td>No Deposit</td>\n",
       "      <td>Furnished</td>\n",
       "    </tr>\n",
       "    <tr>\n",
       "      <th>1</th>\n",
       "      <td>1 RK Studio Apartment</td>\n",
       "      <td>400 sq ft</td>\n",
       "      <td>Mansarover Garden</td>\n",
       "      <td>Delhi</td>\n",
       "      <td>28.643259</td>\n",
       "      <td>77.132828</td>\n",
       "      <td>20000</td>\n",
       "      <td>INR</td>\n",
       "      <td>1.0</td>\n",
       "      <td>NaN</td>\n",
       "      <td>NaN</td>\n",
       "      <td>NaN</td>\n",
       "      <td>Posted 9 days ago</td>\n",
       "      <td>Here is an excellent 1 BHK Independent Floor a...</td>\n",
       "      <td>No Deposit</td>\n",
       "      <td>Furnished</td>\n",
       "    </tr>\n",
       "    <tr>\n",
       "      <th>2</th>\n",
       "      <td>2 BHK Independent Floor</td>\n",
       "      <td>500 sq ft</td>\n",
       "      <td>Uttam Nagar</td>\n",
       "      <td>Delhi</td>\n",
       "      <td>28.618677</td>\n",
       "      <td>77.053352</td>\n",
       "      <td>8500</td>\n",
       "      <td>INR</td>\n",
       "      <td>1.0</td>\n",
       "      <td>NaN</td>\n",
       "      <td>NaN</td>\n",
       "      <td>NaN</td>\n",
       "      <td>Posted 12 days ago</td>\n",
       "      <td>Zero Brokerage.\\n\\n2 Room set, Govt bijali Met...</td>\n",
       "      <td>No Deposit</td>\n",
       "      <td>Semi-Furnished</td>\n",
       "    </tr>\n",
       "    <tr>\n",
       "      <th>3</th>\n",
       "      <td>3 BHK Independent House</td>\n",
       "      <td>1,020 sq ft</td>\n",
       "      <td>Model Town</td>\n",
       "      <td>Delhi</td>\n",
       "      <td>28.712898</td>\n",
       "      <td>77.180000</td>\n",
       "      <td>48000</td>\n",
       "      <td>INR</td>\n",
       "      <td>3.0</td>\n",
       "      <td>NaN</td>\n",
       "      <td>NaN</td>\n",
       "      <td>NaN</td>\n",
       "      <td>Posted a year ago</td>\n",
       "      <td>Itâs a 3 bhk independent house situated in M...</td>\n",
       "      <td>No Deposit</td>\n",
       "      <td>Furnished</td>\n",
       "    </tr>\n",
       "    <tr>\n",
       "      <th>4</th>\n",
       "      <td>2 BHK Apartment</td>\n",
       "      <td>810 sq ft</td>\n",
       "      <td>Sector 13 Rohini</td>\n",
       "      <td>Delhi</td>\n",
       "      <td>28.723539</td>\n",
       "      <td>77.131424</td>\n",
       "      <td>20000</td>\n",
       "      <td>INR</td>\n",
       "      <td>2.0</td>\n",
       "      <td>NaN</td>\n",
       "      <td>NaN</td>\n",
       "      <td>NaN</td>\n",
       "      <td>Posted a year ago</td>\n",
       "      <td>Well designed 2 bhk multistorey apartment is a...</td>\n",
       "      <td>No Deposit</td>\n",
       "      <td>Unfurnished</td>\n",
       "    </tr>\n",
       "  </tbody>\n",
       "</table>\n",
       "</div>"
      ],
      "text/plain": [
       "                 house_type   house_size           location   city   latitude   \n",
       "0    1 RK Studio Apartment     400 sq ft            Kalkaji  Delhi  28.545561  \\\n",
       "1    1 RK Studio Apartment     400 sq ft  Mansarover Garden  Delhi  28.643259   \n",
       "2  2 BHK Independent Floor     500 sq ft        Uttam Nagar  Delhi  28.618677   \n",
       "3  3 BHK Independent House   1,020 sq ft         Model Town  Delhi  28.712898   \n",
       "4          2 BHK Apartment     810 sq ft   Sector 13 Rohini  Delhi  28.723539   \n",
       "\n",
       "   longitude  price currency  numBathrooms  numBalconies isNegotiable   \n",
       "0  77.254349  22000      INR           1.0           NaN          NaN  \\\n",
       "1  77.132828  20000      INR           1.0           NaN          NaN   \n",
       "2  77.053352   8500      INR           1.0           NaN          NaN   \n",
       "3  77.180000  48000      INR           3.0           NaN          NaN   \n",
       "4  77.131424  20000      INR           2.0           NaN          NaN   \n",
       "\n",
       "   priceSqFt    verificationDate   \n",
       "0        NaN    Posted a day ago  \\\n",
       "1        NaN   Posted 9 days ago   \n",
       "2        NaN  Posted 12 days ago   \n",
       "3        NaN   Posted a year ago   \n",
       "4        NaN   Posted a year ago   \n",
       "\n",
       "                                         description SecurityDeposit   \n",
       "0  Fully furnished, loaded with amenities & gadge...      No Deposit  \\\n",
       "1  Here is an excellent 1 BHK Independent Floor a...      No Deposit   \n",
       "2  Zero Brokerage.\\n\\n2 Room set, Govt bijali Met...      No Deposit   \n",
       "3  Itâs a 3 bhk independent house situated in M...      No Deposit   \n",
       "4  Well designed 2 bhk multistorey apartment is a...      No Deposit   \n",
       "\n",
       "           Status  \n",
       "0       Furnished  \n",
       "1       Furnished  \n",
       "2  Semi-Furnished  \n",
       "3       Furnished  \n",
       "4     Unfurnished  "
      ]
     },
     "execution_count": 4,
     "metadata": {},
     "output_type": "execute_result"
    }
   ],
   "source": [
    "df.head()"
   ]
  },
  {
   "cell_type": "code",
   "execution_count": 5,
   "id": "9f3d22ae",
   "metadata": {},
   "outputs": [],
   "source": [
    "df = df.drop([\"city\",\"latitude\",\"longitude\",\"currency\",\"isNegotiable\",\"priceSqFt\",\"verificationDate\",\"description\",\"SecurityDeposit\"],axis=1)"
   ]
  },
  {
   "cell_type": "code",
   "execution_count": 6,
   "id": "6733edbe",
   "metadata": {},
   "outputs": [
    {
     "data": {
      "text/html": [
       "<div>\n",
       "<style scoped>\n",
       "    .dataframe tbody tr th:only-of-type {\n",
       "        vertical-align: middle;\n",
       "    }\n",
       "\n",
       "    .dataframe tbody tr th {\n",
       "        vertical-align: top;\n",
       "    }\n",
       "\n",
       "    .dataframe thead th {\n",
       "        text-align: right;\n",
       "    }\n",
       "</style>\n",
       "<table border=\"1\" class=\"dataframe\">\n",
       "  <thead>\n",
       "    <tr style=\"text-align: right;\">\n",
       "      <th></th>\n",
       "      <th>house_type</th>\n",
       "      <th>house_size</th>\n",
       "      <th>location</th>\n",
       "      <th>price</th>\n",
       "      <th>numBathrooms</th>\n",
       "      <th>numBalconies</th>\n",
       "      <th>Status</th>\n",
       "    </tr>\n",
       "  </thead>\n",
       "  <tbody>\n",
       "    <tr>\n",
       "      <th>0</th>\n",
       "      <td>1 RK Studio Apartment</td>\n",
       "      <td>400 sq ft</td>\n",
       "      <td>Kalkaji</td>\n",
       "      <td>22000</td>\n",
       "      <td>1.0</td>\n",
       "      <td>NaN</td>\n",
       "      <td>Furnished</td>\n",
       "    </tr>\n",
       "    <tr>\n",
       "      <th>1</th>\n",
       "      <td>1 RK Studio Apartment</td>\n",
       "      <td>400 sq ft</td>\n",
       "      <td>Mansarover Garden</td>\n",
       "      <td>20000</td>\n",
       "      <td>1.0</td>\n",
       "      <td>NaN</td>\n",
       "      <td>Furnished</td>\n",
       "    </tr>\n",
       "    <tr>\n",
       "      <th>2</th>\n",
       "      <td>2 BHK Independent Floor</td>\n",
       "      <td>500 sq ft</td>\n",
       "      <td>Uttam Nagar</td>\n",
       "      <td>8500</td>\n",
       "      <td>1.0</td>\n",
       "      <td>NaN</td>\n",
       "      <td>Semi-Furnished</td>\n",
       "    </tr>\n",
       "    <tr>\n",
       "      <th>3</th>\n",
       "      <td>3 BHK Independent House</td>\n",
       "      <td>1,020 sq ft</td>\n",
       "      <td>Model Town</td>\n",
       "      <td>48000</td>\n",
       "      <td>3.0</td>\n",
       "      <td>NaN</td>\n",
       "      <td>Furnished</td>\n",
       "    </tr>\n",
       "    <tr>\n",
       "      <th>4</th>\n",
       "      <td>2 BHK Apartment</td>\n",
       "      <td>810 sq ft</td>\n",
       "      <td>Sector 13 Rohini</td>\n",
       "      <td>20000</td>\n",
       "      <td>2.0</td>\n",
       "      <td>NaN</td>\n",
       "      <td>Unfurnished</td>\n",
       "    </tr>\n",
       "  </tbody>\n",
       "</table>\n",
       "</div>"
      ],
      "text/plain": [
       "                 house_type   house_size           location  price   \n",
       "0    1 RK Studio Apartment     400 sq ft            Kalkaji  22000  \\\n",
       "1    1 RK Studio Apartment     400 sq ft  Mansarover Garden  20000   \n",
       "2  2 BHK Independent Floor     500 sq ft        Uttam Nagar   8500   \n",
       "3  3 BHK Independent House   1,020 sq ft         Model Town  48000   \n",
       "4          2 BHK Apartment     810 sq ft   Sector 13 Rohini  20000   \n",
       "\n",
       "   numBathrooms  numBalconies          Status  \n",
       "0           1.0           NaN       Furnished  \n",
       "1           1.0           NaN       Furnished  \n",
       "2           1.0           NaN  Semi-Furnished  \n",
       "3           3.0           NaN       Furnished  \n",
       "4           2.0           NaN     Unfurnished  "
      ]
     },
     "execution_count": 6,
     "metadata": {},
     "output_type": "execute_result"
    }
   ],
   "source": [
    "df.head()"
   ]
  },
  {
   "cell_type": "code",
   "execution_count": 7,
   "id": "1e29dd69",
   "metadata": {},
   "outputs": [
    {
     "name": "stdout",
     "output_type": "stream",
     "text": [
      "<class 'pandas.core.frame.DataFrame'>\n",
      "RangeIndex: 5000 entries, 0 to 4999\n",
      "Data columns (total 7 columns):\n",
      " #   Column        Non-Null Count  Dtype  \n",
      "---  ------        --------------  -----  \n",
      " 0   house_type    5000 non-null   object \n",
      " 1   house_size    5000 non-null   object \n",
      " 2   location      5000 non-null   object \n",
      " 3   price         5000 non-null   int64  \n",
      " 4   numBathrooms  4975 non-null   float64\n",
      " 5   numBalconies  2737 non-null   float64\n",
      " 6   Status        5000 non-null   object \n",
      "dtypes: float64(2), int64(1), object(4)\n",
      "memory usage: 273.6+ KB\n"
     ]
    }
   ],
   "source": [
    "df.info()"
   ]
  },
  {
   "cell_type": "markdown",
   "id": "7b0a52ff",
   "metadata": {},
   "source": [
    "# Creating a new column named bhk"
   ]
  },
  {
   "cell_type": "code",
   "execution_count": 8,
   "id": "a8833068",
   "metadata": {},
   "outputs": [],
   "source": [
    "df[\"bhk\"]=df[\"house_type\"].str.extract(r'(\\d+)').astype(int)"
   ]
  },
  {
   "cell_type": "code",
   "execution_count": 9,
   "id": "8a83d8bc",
   "metadata": {},
   "outputs": [
    {
     "data": {
      "text/html": [
       "<div>\n",
       "<style scoped>\n",
       "    .dataframe tbody tr th:only-of-type {\n",
       "        vertical-align: middle;\n",
       "    }\n",
       "\n",
       "    .dataframe tbody tr th {\n",
       "        vertical-align: top;\n",
       "    }\n",
       "\n",
       "    .dataframe thead th {\n",
       "        text-align: right;\n",
       "    }\n",
       "</style>\n",
       "<table border=\"1\" class=\"dataframe\">\n",
       "  <thead>\n",
       "    <tr style=\"text-align: right;\">\n",
       "      <th></th>\n",
       "      <th>house_type</th>\n",
       "      <th>house_size</th>\n",
       "      <th>location</th>\n",
       "      <th>price</th>\n",
       "      <th>numBathrooms</th>\n",
       "      <th>numBalconies</th>\n",
       "      <th>Status</th>\n",
       "      <th>bhk</th>\n",
       "    </tr>\n",
       "  </thead>\n",
       "  <tbody>\n",
       "    <tr>\n",
       "      <th>0</th>\n",
       "      <td>1 RK Studio Apartment</td>\n",
       "      <td>400 sq ft</td>\n",
       "      <td>Kalkaji</td>\n",
       "      <td>22000</td>\n",
       "      <td>1.0</td>\n",
       "      <td>NaN</td>\n",
       "      <td>Furnished</td>\n",
       "      <td>1</td>\n",
       "    </tr>\n",
       "    <tr>\n",
       "      <th>1</th>\n",
       "      <td>1 RK Studio Apartment</td>\n",
       "      <td>400 sq ft</td>\n",
       "      <td>Mansarover Garden</td>\n",
       "      <td>20000</td>\n",
       "      <td>1.0</td>\n",
       "      <td>NaN</td>\n",
       "      <td>Furnished</td>\n",
       "      <td>1</td>\n",
       "    </tr>\n",
       "    <tr>\n",
       "      <th>2</th>\n",
       "      <td>2 BHK Independent Floor</td>\n",
       "      <td>500 sq ft</td>\n",
       "      <td>Uttam Nagar</td>\n",
       "      <td>8500</td>\n",
       "      <td>1.0</td>\n",
       "      <td>NaN</td>\n",
       "      <td>Semi-Furnished</td>\n",
       "      <td>2</td>\n",
       "    </tr>\n",
       "    <tr>\n",
       "      <th>3</th>\n",
       "      <td>3 BHK Independent House</td>\n",
       "      <td>1,020 sq ft</td>\n",
       "      <td>Model Town</td>\n",
       "      <td>48000</td>\n",
       "      <td>3.0</td>\n",
       "      <td>NaN</td>\n",
       "      <td>Furnished</td>\n",
       "      <td>3</td>\n",
       "    </tr>\n",
       "    <tr>\n",
       "      <th>4</th>\n",
       "      <td>2 BHK Apartment</td>\n",
       "      <td>810 sq ft</td>\n",
       "      <td>Sector 13 Rohini</td>\n",
       "      <td>20000</td>\n",
       "      <td>2.0</td>\n",
       "      <td>NaN</td>\n",
       "      <td>Unfurnished</td>\n",
       "      <td>2</td>\n",
       "    </tr>\n",
       "  </tbody>\n",
       "</table>\n",
       "</div>"
      ],
      "text/plain": [
       "                 house_type   house_size           location  price   \n",
       "0    1 RK Studio Apartment     400 sq ft            Kalkaji  22000  \\\n",
       "1    1 RK Studio Apartment     400 sq ft  Mansarover Garden  20000   \n",
       "2  2 BHK Independent Floor     500 sq ft        Uttam Nagar   8500   \n",
       "3  3 BHK Independent House   1,020 sq ft         Model Town  48000   \n",
       "4          2 BHK Apartment     810 sq ft   Sector 13 Rohini  20000   \n",
       "\n",
       "   numBathrooms  numBalconies          Status  bhk  \n",
       "0           1.0           NaN       Furnished    1  \n",
       "1           1.0           NaN       Furnished    1  \n",
       "2           1.0           NaN  Semi-Furnished    2  \n",
       "3           3.0           NaN       Furnished    3  \n",
       "4           2.0           NaN     Unfurnished    2  "
      ]
     },
     "execution_count": 9,
     "metadata": {},
     "output_type": "execute_result"
    }
   ],
   "source": [
    "df.head()"
   ]
  },
  {
   "cell_type": "markdown",
   "id": "24292f9c",
   "metadata": {},
   "source": [
    "# Creating different columns from the house_type column"
   ]
  },
  {
   "cell_type": "code",
   "execution_count": 10,
   "id": "9df187d0",
   "metadata": {},
   "outputs": [],
   "source": [
    "df[\"Type\"]=df[\"house_type\"].str.split().str[-1]"
   ]
  },
  {
   "cell_type": "code",
   "execution_count": 11,
   "id": "b06f216a",
   "metadata": {},
   "outputs": [
    {
     "data": {
      "text/html": [
       "<div>\n",
       "<style scoped>\n",
       "    .dataframe tbody tr th:only-of-type {\n",
       "        vertical-align: middle;\n",
       "    }\n",
       "\n",
       "    .dataframe tbody tr th {\n",
       "        vertical-align: top;\n",
       "    }\n",
       "\n",
       "    .dataframe thead th {\n",
       "        text-align: right;\n",
       "    }\n",
       "</style>\n",
       "<table border=\"1\" class=\"dataframe\">\n",
       "  <thead>\n",
       "    <tr style=\"text-align: right;\">\n",
       "      <th></th>\n",
       "      <th>house_type</th>\n",
       "      <th>house_size</th>\n",
       "      <th>location</th>\n",
       "      <th>price</th>\n",
       "      <th>numBathrooms</th>\n",
       "      <th>numBalconies</th>\n",
       "      <th>Status</th>\n",
       "      <th>bhk</th>\n",
       "      <th>Type</th>\n",
       "    </tr>\n",
       "  </thead>\n",
       "  <tbody>\n",
       "    <tr>\n",
       "      <th>0</th>\n",
       "      <td>1 RK Studio Apartment</td>\n",
       "      <td>400 sq ft</td>\n",
       "      <td>Kalkaji</td>\n",
       "      <td>22000</td>\n",
       "      <td>1.0</td>\n",
       "      <td>NaN</td>\n",
       "      <td>Furnished</td>\n",
       "      <td>1</td>\n",
       "      <td>Apartment</td>\n",
       "    </tr>\n",
       "    <tr>\n",
       "      <th>1</th>\n",
       "      <td>1 RK Studio Apartment</td>\n",
       "      <td>400 sq ft</td>\n",
       "      <td>Mansarover Garden</td>\n",
       "      <td>20000</td>\n",
       "      <td>1.0</td>\n",
       "      <td>NaN</td>\n",
       "      <td>Furnished</td>\n",
       "      <td>1</td>\n",
       "      <td>Apartment</td>\n",
       "    </tr>\n",
       "    <tr>\n",
       "      <th>2</th>\n",
       "      <td>2 BHK Independent Floor</td>\n",
       "      <td>500 sq ft</td>\n",
       "      <td>Uttam Nagar</td>\n",
       "      <td>8500</td>\n",
       "      <td>1.0</td>\n",
       "      <td>NaN</td>\n",
       "      <td>Semi-Furnished</td>\n",
       "      <td>2</td>\n",
       "      <td>Floor</td>\n",
       "    </tr>\n",
       "    <tr>\n",
       "      <th>3</th>\n",
       "      <td>3 BHK Independent House</td>\n",
       "      <td>1,020 sq ft</td>\n",
       "      <td>Model Town</td>\n",
       "      <td>48000</td>\n",
       "      <td>3.0</td>\n",
       "      <td>NaN</td>\n",
       "      <td>Furnished</td>\n",
       "      <td>3</td>\n",
       "      <td>House</td>\n",
       "    </tr>\n",
       "    <tr>\n",
       "      <th>4</th>\n",
       "      <td>2 BHK Apartment</td>\n",
       "      <td>810 sq ft</td>\n",
       "      <td>Sector 13 Rohini</td>\n",
       "      <td>20000</td>\n",
       "      <td>2.0</td>\n",
       "      <td>NaN</td>\n",
       "      <td>Unfurnished</td>\n",
       "      <td>2</td>\n",
       "      <td>Apartment</td>\n",
       "    </tr>\n",
       "  </tbody>\n",
       "</table>\n",
       "</div>"
      ],
      "text/plain": [
       "                 house_type   house_size           location  price   \n",
       "0    1 RK Studio Apartment     400 sq ft            Kalkaji  22000  \\\n",
       "1    1 RK Studio Apartment     400 sq ft  Mansarover Garden  20000   \n",
       "2  2 BHK Independent Floor     500 sq ft        Uttam Nagar   8500   \n",
       "3  3 BHK Independent House   1,020 sq ft         Model Town  48000   \n",
       "4          2 BHK Apartment     810 sq ft   Sector 13 Rohini  20000   \n",
       "\n",
       "   numBathrooms  numBalconies          Status  bhk       Type  \n",
       "0           1.0           NaN       Furnished    1  Apartment  \n",
       "1           1.0           NaN       Furnished    1  Apartment  \n",
       "2           1.0           NaN  Semi-Furnished    2      Floor  \n",
       "3           3.0           NaN       Furnished    3      House  \n",
       "4           2.0           NaN     Unfurnished    2  Apartment  "
      ]
     },
     "execution_count": 11,
     "metadata": {},
     "output_type": "execute_result"
    }
   ],
   "source": [
    "df.head()"
   ]
  },
  {
   "cell_type": "code",
   "execution_count": 12,
   "id": "595d8784",
   "metadata": {},
   "outputs": [],
   "source": [
    "df = df.drop([\"house_type\"],axis=1)"
   ]
  },
  {
   "cell_type": "code",
   "execution_count": 13,
   "id": "8e5bb310",
   "metadata": {},
   "outputs": [
    {
     "data": {
      "text/html": [
       "<div>\n",
       "<style scoped>\n",
       "    .dataframe tbody tr th:only-of-type {\n",
       "        vertical-align: middle;\n",
       "    }\n",
       "\n",
       "    .dataframe tbody tr th {\n",
       "        vertical-align: top;\n",
       "    }\n",
       "\n",
       "    .dataframe thead th {\n",
       "        text-align: right;\n",
       "    }\n",
       "</style>\n",
       "<table border=\"1\" class=\"dataframe\">\n",
       "  <thead>\n",
       "    <tr style=\"text-align: right;\">\n",
       "      <th></th>\n",
       "      <th>house_size</th>\n",
       "      <th>location</th>\n",
       "      <th>price</th>\n",
       "      <th>numBathrooms</th>\n",
       "      <th>numBalconies</th>\n",
       "      <th>Status</th>\n",
       "      <th>bhk</th>\n",
       "      <th>Type</th>\n",
       "    </tr>\n",
       "  </thead>\n",
       "  <tbody>\n",
       "    <tr>\n",
       "      <th>0</th>\n",
       "      <td>400 sq ft</td>\n",
       "      <td>Kalkaji</td>\n",
       "      <td>22000</td>\n",
       "      <td>1.0</td>\n",
       "      <td>NaN</td>\n",
       "      <td>Furnished</td>\n",
       "      <td>1</td>\n",
       "      <td>Apartment</td>\n",
       "    </tr>\n",
       "    <tr>\n",
       "      <th>1</th>\n",
       "      <td>400 sq ft</td>\n",
       "      <td>Mansarover Garden</td>\n",
       "      <td>20000</td>\n",
       "      <td>1.0</td>\n",
       "      <td>NaN</td>\n",
       "      <td>Furnished</td>\n",
       "      <td>1</td>\n",
       "      <td>Apartment</td>\n",
       "    </tr>\n",
       "    <tr>\n",
       "      <th>2</th>\n",
       "      <td>500 sq ft</td>\n",
       "      <td>Uttam Nagar</td>\n",
       "      <td>8500</td>\n",
       "      <td>1.0</td>\n",
       "      <td>NaN</td>\n",
       "      <td>Semi-Furnished</td>\n",
       "      <td>2</td>\n",
       "      <td>Floor</td>\n",
       "    </tr>\n",
       "    <tr>\n",
       "      <th>3</th>\n",
       "      <td>1,020 sq ft</td>\n",
       "      <td>Model Town</td>\n",
       "      <td>48000</td>\n",
       "      <td>3.0</td>\n",
       "      <td>NaN</td>\n",
       "      <td>Furnished</td>\n",
       "      <td>3</td>\n",
       "      <td>House</td>\n",
       "    </tr>\n",
       "    <tr>\n",
       "      <th>4</th>\n",
       "      <td>810 sq ft</td>\n",
       "      <td>Sector 13 Rohini</td>\n",
       "      <td>20000</td>\n",
       "      <td>2.0</td>\n",
       "      <td>NaN</td>\n",
       "      <td>Unfurnished</td>\n",
       "      <td>2</td>\n",
       "      <td>Apartment</td>\n",
       "    </tr>\n",
       "  </tbody>\n",
       "</table>\n",
       "</div>"
      ],
      "text/plain": [
       "    house_size           location  price  numBathrooms  numBalconies   \n",
       "0    400 sq ft            Kalkaji  22000           1.0           NaN  \\\n",
       "1    400 sq ft  Mansarover Garden  20000           1.0           NaN   \n",
       "2    500 sq ft        Uttam Nagar   8500           1.0           NaN   \n",
       "3  1,020 sq ft         Model Town  48000           3.0           NaN   \n",
       "4    810 sq ft   Sector 13 Rohini  20000           2.0           NaN   \n",
       "\n",
       "           Status  bhk       Type  \n",
       "0       Furnished    1  Apartment  \n",
       "1       Furnished    1  Apartment  \n",
       "2  Semi-Furnished    2      Floor  \n",
       "3       Furnished    3      House  \n",
       "4     Unfurnished    2  Apartment  "
      ]
     },
     "execution_count": 13,
     "metadata": {},
     "output_type": "execute_result"
    }
   ],
   "source": [
    "df.head()"
   ]
  },
  {
   "cell_type": "markdown",
   "id": "014403e8",
   "metadata": {},
   "source": [
    "# Extracting numerical value from house_size column "
   ]
  },
  {
   "cell_type": "code",
   "execution_count": 14,
   "id": "e4c9e365",
   "metadata": {},
   "outputs": [],
   "source": [
    "df[\"Size\"]=df[\"house_size\"].str.extract(r'(\\d+)').astype(\"float\")"
   ]
  },
  {
   "cell_type": "code",
   "execution_count": 15,
   "id": "0cc80442",
   "metadata": {},
   "outputs": [],
   "source": [
    "df = df.drop([\"house_size\"],axis=1)"
   ]
  },
  {
   "cell_type": "code",
   "execution_count": 16,
   "id": "114415d2",
   "metadata": {},
   "outputs": [
    {
     "data": {
      "text/html": [
       "<div>\n",
       "<style scoped>\n",
       "    .dataframe tbody tr th:only-of-type {\n",
       "        vertical-align: middle;\n",
       "    }\n",
       "\n",
       "    .dataframe tbody tr th {\n",
       "        vertical-align: top;\n",
       "    }\n",
       "\n",
       "    .dataframe thead th {\n",
       "        text-align: right;\n",
       "    }\n",
       "</style>\n",
       "<table border=\"1\" class=\"dataframe\">\n",
       "  <thead>\n",
       "    <tr style=\"text-align: right;\">\n",
       "      <th></th>\n",
       "      <th>location</th>\n",
       "      <th>price</th>\n",
       "      <th>numBathrooms</th>\n",
       "      <th>numBalconies</th>\n",
       "      <th>Status</th>\n",
       "      <th>bhk</th>\n",
       "      <th>Type</th>\n",
       "      <th>Size</th>\n",
       "    </tr>\n",
       "  </thead>\n",
       "  <tbody>\n",
       "    <tr>\n",
       "      <th>0</th>\n",
       "      <td>Kalkaji</td>\n",
       "      <td>22000</td>\n",
       "      <td>1.0</td>\n",
       "      <td>NaN</td>\n",
       "      <td>Furnished</td>\n",
       "      <td>1</td>\n",
       "      <td>Apartment</td>\n",
       "      <td>400.0</td>\n",
       "    </tr>\n",
       "    <tr>\n",
       "      <th>1</th>\n",
       "      <td>Mansarover Garden</td>\n",
       "      <td>20000</td>\n",
       "      <td>1.0</td>\n",
       "      <td>NaN</td>\n",
       "      <td>Furnished</td>\n",
       "      <td>1</td>\n",
       "      <td>Apartment</td>\n",
       "      <td>400.0</td>\n",
       "    </tr>\n",
       "    <tr>\n",
       "      <th>2</th>\n",
       "      <td>Uttam Nagar</td>\n",
       "      <td>8500</td>\n",
       "      <td>1.0</td>\n",
       "      <td>NaN</td>\n",
       "      <td>Semi-Furnished</td>\n",
       "      <td>2</td>\n",
       "      <td>Floor</td>\n",
       "      <td>500.0</td>\n",
       "    </tr>\n",
       "    <tr>\n",
       "      <th>3</th>\n",
       "      <td>Model Town</td>\n",
       "      <td>48000</td>\n",
       "      <td>3.0</td>\n",
       "      <td>NaN</td>\n",
       "      <td>Furnished</td>\n",
       "      <td>3</td>\n",
       "      <td>House</td>\n",
       "      <td>1.0</td>\n",
       "    </tr>\n",
       "    <tr>\n",
       "      <th>4</th>\n",
       "      <td>Sector 13 Rohini</td>\n",
       "      <td>20000</td>\n",
       "      <td>2.0</td>\n",
       "      <td>NaN</td>\n",
       "      <td>Unfurnished</td>\n",
       "      <td>2</td>\n",
       "      <td>Apartment</td>\n",
       "      <td>810.0</td>\n",
       "    </tr>\n",
       "  </tbody>\n",
       "</table>\n",
       "</div>"
      ],
      "text/plain": [
       "            location  price  numBathrooms  numBalconies          Status  bhk   \n",
       "0            Kalkaji  22000           1.0           NaN       Furnished    1  \\\n",
       "1  Mansarover Garden  20000           1.0           NaN       Furnished    1   \n",
       "2        Uttam Nagar   8500           1.0           NaN  Semi-Furnished    2   \n",
       "3         Model Town  48000           3.0           NaN       Furnished    3   \n",
       "4   Sector 13 Rohini  20000           2.0           NaN     Unfurnished    2   \n",
       "\n",
       "        Type   Size  \n",
       "0  Apartment  400.0  \n",
       "1  Apartment  400.0  \n",
       "2      Floor  500.0  \n",
       "3      House    1.0  \n",
       "4  Apartment  810.0  "
      ]
     },
     "execution_count": 16,
     "metadata": {},
     "output_type": "execute_result"
    }
   ],
   "source": [
    "df.head()"
   ]
  },
  {
   "cell_type": "code",
   "execution_count": 17,
   "id": "5993adca",
   "metadata": {},
   "outputs": [
    {
     "name": "stdout",
     "output_type": "stream",
     "text": [
      "<class 'pandas.core.frame.DataFrame'>\n",
      "RangeIndex: 5000 entries, 0 to 4999\n",
      "Data columns (total 8 columns):\n",
      " #   Column        Non-Null Count  Dtype  \n",
      "---  ------        --------------  -----  \n",
      " 0   location      5000 non-null   object \n",
      " 1   price         5000 non-null   int64  \n",
      " 2   numBathrooms  4975 non-null   float64\n",
      " 3   numBalconies  2737 non-null   float64\n",
      " 4   Status        5000 non-null   object \n",
      " 5   bhk           5000 non-null   int32  \n",
      " 6   Type          5000 non-null   object \n",
      " 7   Size          5000 non-null   float64\n",
      "dtypes: float64(3), int32(1), int64(1), object(3)\n",
      "memory usage: 293.1+ KB\n"
     ]
    }
   ],
   "source": [
    "df.info()"
   ]
  },
  {
   "cell_type": "markdown",
   "id": "a7cb5633",
   "metadata": {},
   "source": [
    "# Filling null values of bathrooms and balconies"
   ]
  },
  {
   "cell_type": "code",
   "execution_count": 18,
   "id": "7bb22a2f",
   "metadata": {},
   "outputs": [],
   "source": [
    "df[\"bath\"]=df[\"numBathrooms\"].fillna(df[\"bhk\"])\n",
    "df[\"balcony\"]=df[\"numBalconies\"].fillna(df[\"bhk\"])"
   ]
  },
  {
   "cell_type": "code",
   "execution_count": 19,
   "id": "1bd0d3f0",
   "metadata": {},
   "outputs": [],
   "source": [
    "import seaborn as sns\n",
    "from matplotlib import pyplot as plt"
   ]
  },
  {
   "cell_type": "code",
   "execution_count": 20,
   "id": "8ea2474d",
   "metadata": {},
   "outputs": [
    {
     "data": {
      "image/png": "[encoded data removed]",
      "text/plain": [
       "<Figure size 640x480 with 1 Axes>"
      ]
     },
     "metadata": {},
     "output_type": "display_data"
    }
   ],
   "source": [
    "#box plot for bhk column \n",
    "sns.set_style(\"whitegrid\")\n",
    "sns.boxplot(data=df, y='bhk')\n",
    "plt.title('Box Plot of Price')\n",
    "plt.ylabel('Price')\n",
    "plt.show()"
   ]
  },
  {
   "cell_type": "code",
   "execution_count": 21,
   "id": "2250f41d",
   "metadata": {},
   "outputs": [
    {
     "data": {
      "image/png": "[encoded data removed]",
      "text/plain": [
       "<Figure size 1000x600 with 1 Axes>"
      ]
     },
     "metadata": {},
     "output_type": "display_data"
    }
   ],
   "source": [
    "#box plot for price column\n",
    "sns.set_style(\"whitegrid\")\n",
    "plt.figure(figsize=(10, 6))\n",
    "sns.boxplot(data=df, y='price')\n",
    "plt.title('Box Plot of Price')\n",
    "plt.ylabel('Price')\n",
    "plt.show()"
   ]
  },
  {
   "cell_type": "markdown",
   "id": "06fb131f",
   "metadata": {},
   "source": [
    "# Removing the outliers"
   ]
  },
  {
   "cell_type": "code",
   "execution_count": 22,
   "id": "c3d089f5",
   "metadata": {},
   "outputs": [],
   "source": [
    "q1=df[\"price\"].quantile(0.25)\n",
    "q3=df[\"price\"].quantile(0.75)\n",
    "\n",
    "iqr = q3 - q1\n",
    "\n",
    "lower_bound = q1 - 1.5*iqr\n",
    "upper_bound = q3 + 1.5*iqr\n",
    "outliers=(df[\"price\"] < lower_bound ) | (df[\"price\"] > upper_bound)\n",
    "df=df[~outliers]"
   ]
  },
  {
   "cell_type": "code",
   "execution_count": 23,
   "id": "5853ec9e",
   "metadata": {},
   "outputs": [
    {
     "data": {
      "image/png": "[encoded data removed]",
      "text/plain": [
       "<Figure size 1000x600 with 1 Axes>"
      ]
     },
     "metadata": {},
     "output_type": "display_data"
    }
   ],
   "source": [
    "#box plot for price column after removing outliers\n",
    "sns.set_style(\"whitegrid\")\n",
    "plt.figure(figsize=(10, 6))\n",
    "sns.boxplot(data=df, y='price')\n",
    "plt.title('Box Plot of Price')\n",
    "plt.ylabel('Price')\n",
    "plt.show()"
   ]
  },
  {
   "cell_type": "code",
   "execution_count": 24,
   "id": "39e914f0",
   "metadata": {},
   "outputs": [
    {
     "data": {
      "image/png": "[encoded data removed]",
      "text/plain": [
       "<Figure size 1000x600 with 1 Axes>"
      ]
     },
     "metadata": {},
     "output_type": "display_data"
    }
   ],
   "source": [
    "#box plot for bhk column after removing outliers\n",
    "sns.set_style(\"whitegrid\")\n",
    "plt.figure(figsize=(10, 6))\n",
    "sns.boxplot(data=df, y='bhk')\n",
    "plt.title('Box Plot of Price')\n",
    "plt.ylabel('Price')\n",
    "plt.show()"
   ]
  },
  {
   "cell_type": "code",
   "execution_count": 25,
   "id": "60ef904f",
   "metadata": {},
   "outputs": [
    {
     "data": {
      "text/plain": [
       "bhk\n",
       "3    1907\n",
       "4    1186\n",
       "2     753\n",
       "1     549\n",
       "5     397\n",
       "6       7\n",
       "8       2\n",
       "7       1\n",
       "9       1\n",
       "Name: count, dtype: int64"
      ]
     },
     "execution_count": 25,
     "metadata": {},
     "output_type": "execute_result"
    }
   ],
   "source": [
    "df[\"bhk\"].value_counts()"
   ]
  },
  {
   "cell_type": "code",
   "execution_count": 26,
   "id": "aff743f3",
   "metadata": {},
   "outputs": [
    {
     "data": {
      "text/plain": [
       "(4803, 10)"
      ]
     },
     "execution_count": 26,
     "metadata": {},
     "output_type": "execute_result"
    }
   ],
   "source": [
    "df.shape"
   ]
  },
  {
   "cell_type": "code",
   "execution_count": 27,
   "id": "d8d92736",
   "metadata": {},
   "outputs": [
    {
     "data": {
      "text/html": [
       "<div>\n",
       "<style scoped>\n",
       "    .dataframe tbody tr th:only-of-type {\n",
       "        vertical-align: middle;\n",
       "    }\n",
       "\n",
       "    .dataframe tbody tr th {\n",
       "        vertical-align: top;\n",
       "    }\n",
       "\n",
       "    .dataframe thead th {\n",
       "        text-align: right;\n",
       "    }\n",
       "</style>\n",
       "<table border=\"1\" class=\"dataframe\">\n",
       "  <thead>\n",
       "    <tr style=\"text-align: right;\">\n",
       "      <th></th>\n",
       "      <th>location</th>\n",
       "      <th>price</th>\n",
       "      <th>numBathrooms</th>\n",
       "      <th>numBalconies</th>\n",
       "      <th>Status</th>\n",
       "      <th>bhk</th>\n",
       "      <th>Type</th>\n",
       "      <th>Size</th>\n",
       "      <th>bath</th>\n",
       "      <th>balcony</th>\n",
       "    </tr>\n",
       "  </thead>\n",
       "  <tbody>\n",
       "    <tr>\n",
       "      <th>0</th>\n",
       "      <td>Kalkaji</td>\n",
       "      <td>22000</td>\n",
       "      <td>1.0</td>\n",
       "      <td>NaN</td>\n",
       "      <td>Furnished</td>\n",
       "      <td>1</td>\n",
       "      <td>Apartment</td>\n",
       "      <td>400.0</td>\n",
       "      <td>1.0</td>\n",
       "      <td>1.0</td>\n",
       "    </tr>\n",
       "    <tr>\n",
       "      <th>1</th>\n",
       "      <td>Mansarover Garden</td>\n",
       "      <td>20000</td>\n",
       "      <td>1.0</td>\n",
       "      <td>NaN</td>\n",
       "      <td>Furnished</td>\n",
       "      <td>1</td>\n",
       "      <td>Apartment</td>\n",
       "      <td>400.0</td>\n",
       "      <td>1.0</td>\n",
       "      <td>1.0</td>\n",
       "    </tr>\n",
       "    <tr>\n",
       "      <th>2</th>\n",
       "      <td>Uttam Nagar</td>\n",
       "      <td>8500</td>\n",
       "      <td>1.0</td>\n",
       "      <td>NaN</td>\n",
       "      <td>Semi-Furnished</td>\n",
       "      <td>2</td>\n",
       "      <td>Floor</td>\n",
       "      <td>500.0</td>\n",
       "      <td>1.0</td>\n",
       "      <td>2.0</td>\n",
       "    </tr>\n",
       "    <tr>\n",
       "      <th>3</th>\n",
       "      <td>Model Town</td>\n",
       "      <td>48000</td>\n",
       "      <td>3.0</td>\n",
       "      <td>NaN</td>\n",
       "      <td>Furnished</td>\n",
       "      <td>3</td>\n",
       "      <td>House</td>\n",
       "      <td>1.0</td>\n",
       "      <td>3.0</td>\n",
       "      <td>3.0</td>\n",
       "    </tr>\n",
       "    <tr>\n",
       "      <th>4</th>\n",
       "      <td>Sector 13 Rohini</td>\n",
       "      <td>20000</td>\n",
       "      <td>2.0</td>\n",
       "      <td>NaN</td>\n",
       "      <td>Unfurnished</td>\n",
       "      <td>2</td>\n",
       "      <td>Apartment</td>\n",
       "      <td>810.0</td>\n",
       "      <td>2.0</td>\n",
       "      <td>2.0</td>\n",
       "    </tr>\n",
       "  </tbody>\n",
       "</table>\n",
       "</div>"
      ],
      "text/plain": [
       "            location  price  numBathrooms  numBalconies          Status  bhk   \n",
       "0            Kalkaji  22000           1.0           NaN       Furnished    1  \\\n",
       "1  Mansarover Garden  20000           1.0           NaN       Furnished    1   \n",
       "2        Uttam Nagar   8500           1.0           NaN  Semi-Furnished    2   \n",
       "3         Model Town  48000           3.0           NaN       Furnished    3   \n",
       "4   Sector 13 Rohini  20000           2.0           NaN     Unfurnished    2   \n",
       "\n",
       "        Type   Size  bath  balcony  \n",
       "0  Apartment  400.0   1.0      1.0  \n",
       "1  Apartment  400.0   1.0      1.0  \n",
       "2      Floor  500.0   1.0      2.0  \n",
       "3      House    1.0   3.0      3.0  \n",
       "4  Apartment  810.0   2.0      2.0  "
      ]
     },
     "execution_count": 27,
     "metadata": {},
     "output_type": "execute_result"
    }
   ],
   "source": [
    "df.head()"
   ]
  },
  {
   "cell_type": "code",
   "execution_count": 28,
   "id": "fe4a2ec5",
   "metadata": {},
   "outputs": [
    {
     "data": {
      "text/plain": [
       "Status\n",
       "Unfurnished       2155\n",
       "Semi-Furnished    1915\n",
       "Furnished          733\n",
       "Name: count, dtype: int64"
      ]
     },
     "execution_count": 28,
     "metadata": {},
     "output_type": "execute_result"
    }
   ],
   "source": [
    "df[\"Status\"].value_counts()"
   ]
  },
  {
   "cell_type": "code",
   "execution_count": 29,
   "id": "627c751a",
   "metadata": {},
   "outputs": [
    {
     "data": {
      "image/png": "[encoded data removed]",
      "text/plain": [
       "<Figure size 1000x600 with 1 Axes>"
      ]
     },
     "metadata": {},
     "output_type": "display_data"
    }
   ],
   "source": [
    "#box plot for size column\n",
    "sns.set_style(\"whitegrid\")\n",
    "plt.figure(figsize=(10, 6))\n",
    "sns.boxplot(data=df, y='Size')\n",
    "plt.title('Box Plot of Price')\n",
    "plt.ylabel('Price')\n",
    "plt.show()"
   ]
  },
  {
   "cell_type": "code",
   "execution_count": 30,
   "id": "32015728",
   "metadata": {},
   "outputs": [],
   "source": [
    "# this column has many misleading values and outliers hence it is appropriate to drop this column"
   ]
  },
  {
   "cell_type": "code",
   "execution_count": 31,
   "id": "5608a9ac",
   "metadata": {},
   "outputs": [],
   "source": [
    "df = df.drop([\"Size\"],axis = 1)"
   ]
  },
  {
   "cell_type": "code",
   "execution_count": 32,
   "id": "155f6ffb",
   "metadata": {},
   "outputs": [
    {
     "data": {
      "text/html": [
       "<div>\n",
       "<style scoped>\n",
       "    .dataframe tbody tr th:only-of-type {\n",
       "        vertical-align: middle;\n",
       "    }\n",
       "\n",
       "    .dataframe tbody tr th {\n",
       "        vertical-align: top;\n",
       "    }\n",
       "\n",
       "    .dataframe thead th {\n",
       "        text-align: right;\n",
       "    }\n",
       "</style>\n",
       "<table border=\"1\" class=\"dataframe\">\n",
       "  <thead>\n",
       "    <tr style=\"text-align: right;\">\n",
       "      <th></th>\n",
       "      <th>location</th>\n",
       "      <th>price</th>\n",
       "      <th>numBathrooms</th>\n",
       "      <th>numBalconies</th>\n",
       "      <th>Status</th>\n",
       "      <th>bhk</th>\n",
       "      <th>Type</th>\n",
       "      <th>bath</th>\n",
       "      <th>balcony</th>\n",
       "    </tr>\n",
       "  </thead>\n",
       "  <tbody>\n",
       "    <tr>\n",
       "      <th>0</th>\n",
       "      <td>Kalkaji</td>\n",
       "      <td>22000</td>\n",
       "      <td>1.0</td>\n",
       "      <td>NaN</td>\n",
       "      <td>Furnished</td>\n",
       "      <td>1</td>\n",
       "      <td>Apartment</td>\n",
       "      <td>1.0</td>\n",
       "      <td>1.0</td>\n",
       "    </tr>\n",
       "    <tr>\n",
       "      <th>1</th>\n",
       "      <td>Mansarover Garden</td>\n",
       "      <td>20000</td>\n",
       "      <td>1.0</td>\n",
       "      <td>NaN</td>\n",
       "      <td>Furnished</td>\n",
       "      <td>1</td>\n",
       "      <td>Apartment</td>\n",
       "      <td>1.0</td>\n",
       "      <td>1.0</td>\n",
       "    </tr>\n",
       "    <tr>\n",
       "      <th>2</th>\n",
       "      <td>Uttam Nagar</td>\n",
       "      <td>8500</td>\n",
       "      <td>1.0</td>\n",
       "      <td>NaN</td>\n",
       "      <td>Semi-Furnished</td>\n",
       "      <td>2</td>\n",
       "      <td>Floor</td>\n",
       "      <td>1.0</td>\n",
       "      <td>2.0</td>\n",
       "    </tr>\n",
       "    <tr>\n",
       "      <th>3</th>\n",
       "      <td>Model Town</td>\n",
       "      <td>48000</td>\n",
       "      <td>3.0</td>\n",
       "      <td>NaN</td>\n",
       "      <td>Furnished</td>\n",
       "      <td>3</td>\n",
       "      <td>House</td>\n",
       "      <td>3.0</td>\n",
       "      <td>3.0</td>\n",
       "    </tr>\n",
       "    <tr>\n",
       "      <th>4</th>\n",
       "      <td>Sector 13 Rohini</td>\n",
       "      <td>20000</td>\n",
       "      <td>2.0</td>\n",
       "      <td>NaN</td>\n",
       "      <td>Unfurnished</td>\n",
       "      <td>2</td>\n",
       "      <td>Apartment</td>\n",
       "      <td>2.0</td>\n",
       "      <td>2.0</td>\n",
       "    </tr>\n",
       "  </tbody>\n",
       "</table>\n",
       "</div>"
      ],
      "text/plain": [
       "            location  price  numBathrooms  numBalconies          Status  bhk   \n",
       "0            Kalkaji  22000           1.0           NaN       Furnished    1  \\\n",
       "1  Mansarover Garden  20000           1.0           NaN       Furnished    1   \n",
       "2        Uttam Nagar   8500           1.0           NaN  Semi-Furnished    2   \n",
       "3         Model Town  48000           3.0           NaN       Furnished    3   \n",
       "4   Sector 13 Rohini  20000           2.0           NaN     Unfurnished    2   \n",
       "\n",
       "        Type  bath  balcony  \n",
       "0  Apartment   1.0      1.0  \n",
       "1  Apartment   1.0      1.0  \n",
       "2      Floor   1.0      2.0  \n",
       "3      House   3.0      3.0  \n",
       "4  Apartment   2.0      2.0  "
      ]
     },
     "execution_count": 32,
     "metadata": {},
     "output_type": "execute_result"
    }
   ],
   "source": [
    "df.head()"
   ]
  },
  {
   "cell_type": "code",
   "execution_count": 33,
   "id": "f54e6156",
   "metadata": {},
   "outputs": [],
   "source": [
    "df = df.drop([\"numBathrooms\",\"numBalconies\"], axis = 1)"
   ]
  },
  {
   "cell_type": "code",
   "execution_count": 34,
   "id": "a92ab6cd",
   "metadata": {},
   "outputs": [
    {
     "data": {
      "text/html": [
       "<div>\n",
       "<style scoped>\n",
       "    .dataframe tbody tr th:only-of-type {\n",
       "        vertical-align: middle;\n",
       "    }\n",
       "\n",
       "    .dataframe tbody tr th {\n",
       "        vertical-align: top;\n",
       "    }\n",
       "\n",
       "    .dataframe thead th {\n",
       "        text-align: right;\n",
       "    }\n",
       "</style>\n",
       "<table border=\"1\" class=\"dataframe\">\n",
       "  <thead>\n",
       "    <tr style=\"text-align: right;\">\n",
       "      <th></th>\n",
       "      <th>location</th>\n",
       "      <th>price</th>\n",
       "      <th>Status</th>\n",
       "      <th>bhk</th>\n",
       "      <th>Type</th>\n",
       "      <th>bath</th>\n",
       "      <th>balcony</th>\n",
       "    </tr>\n",
       "  </thead>\n",
       "  <tbody>\n",
       "    <tr>\n",
       "      <th>0</th>\n",
       "      <td>Kalkaji</td>\n",
       "      <td>22000</td>\n",
       "      <td>Furnished</td>\n",
       "      <td>1</td>\n",
       "      <td>Apartment</td>\n",
       "      <td>1.0</td>\n",
       "      <td>1.0</td>\n",
       "    </tr>\n",
       "    <tr>\n",
       "      <th>1</th>\n",
       "      <td>Mansarover Garden</td>\n",
       "      <td>20000</td>\n",
       "      <td>Furnished</td>\n",
       "      <td>1</td>\n",
       "      <td>Apartment</td>\n",
       "      <td>1.0</td>\n",
       "      <td>1.0</td>\n",
       "    </tr>\n",
       "    <tr>\n",
       "      <th>2</th>\n",
       "      <td>Uttam Nagar</td>\n",
       "      <td>8500</td>\n",
       "      <td>Semi-Furnished</td>\n",
       "      <td>2</td>\n",
       "      <td>Floor</td>\n",
       "      <td>1.0</td>\n",
       "      <td>2.0</td>\n",
       "    </tr>\n",
       "    <tr>\n",
       "      <th>3</th>\n",
       "      <td>Model Town</td>\n",
       "      <td>48000</td>\n",
       "      <td>Furnished</td>\n",
       "      <td>3</td>\n",
       "      <td>House</td>\n",
       "      <td>3.0</td>\n",
       "      <td>3.0</td>\n",
       "    </tr>\n",
       "    <tr>\n",
       "      <th>4</th>\n",
       "      <td>Sector 13 Rohini</td>\n",
       "      <td>20000</td>\n",
       "      <td>Unfurnished</td>\n",
       "      <td>2</td>\n",
       "      <td>Apartment</td>\n",
       "      <td>2.0</td>\n",
       "      <td>2.0</td>\n",
       "    </tr>\n",
       "  </tbody>\n",
       "</table>\n",
       "</div>"
      ],
      "text/plain": [
       "            location  price          Status  bhk       Type  bath  balcony\n",
       "0            Kalkaji  22000       Furnished    1  Apartment   1.0      1.0\n",
       "1  Mansarover Garden  20000       Furnished    1  Apartment   1.0      1.0\n",
       "2        Uttam Nagar   8500  Semi-Furnished    2      Floor   1.0      2.0\n",
       "3         Model Town  48000       Furnished    3      House   3.0      3.0\n",
       "4   Sector 13 Rohini  20000     Unfurnished    2  Apartment   2.0      2.0"
      ]
     },
     "execution_count": 34,
     "metadata": {},
     "output_type": "execute_result"
    }
   ],
   "source": [
    "df.head()"
   ]
  },
  {
   "cell_type": "code",
   "execution_count": 35,
   "id": "59e6380a",
   "metadata": {},
   "outputs": [
    {
     "data": {
      "text/plain": [
       "location\n",
       "Defence Colony        188\n",
       "Greater kailash 1     153\n",
       "Chattarpur            145\n",
       "Vasant Vihar          139\n",
       "Safdarjung Enclave    118\n",
       "                     ... \n",
       "Ansari Nagar West       1\n",
       "Sat Bari                1\n",
       "Kailash hills           1\n",
       "Soami Nagar             1\n",
       "dda flat                1\n",
       "Name: count, Length: 275, dtype: int64"
      ]
     },
     "execution_count": 35,
     "metadata": {},
     "output_type": "execute_result"
    }
   ],
   "source": [
    "df[\"location\"].value_counts()"
   ]
  },
  {
   "cell_type": "code",
   "execution_count": 36,
   "id": "32dd11a2",
   "metadata": {},
   "outputs": [
    {
     "data": {
      "image/png": "[encoded data removed]",
      "text/plain": [
       "<Figure size 1200x600 with 1 Axes>"
      ]
     },
     "metadata": {},
     "output_type": "display_data"
    }
   ],
   "source": [
    "#barplot for location\n",
    "plt.figure(figsize=(12,6))\n",
    "sns.barplot(df[\"location\"].value_counts().head(10))\n",
    "plt.tight_layout()\n",
    "plt.show()"
   ]
  },
  {
   "cell_type": "code",
   "execution_count": 37,
   "id": "e04fa049",
   "metadata": {},
   "outputs": [
    {
     "data": {
      "text/html": [
       "<div>\n",
       "<style scoped>\n",
       "    .dataframe tbody tr th:only-of-type {\n",
       "        vertical-align: middle;\n",
       "    }\n",
       "\n",
       "    .dataframe tbody tr th {\n",
       "        vertical-align: top;\n",
       "    }\n",
       "\n",
       "    .dataframe thead th {\n",
       "        text-align: right;\n",
       "    }\n",
       "</style>\n",
       "<table border=\"1\" class=\"dataframe\">\n",
       "  <thead>\n",
       "    <tr style=\"text-align: right;\">\n",
       "      <th></th>\n",
       "      <th>location</th>\n",
       "      <th>count</th>\n",
       "      <th>mean</th>\n",
       "      <th>std</th>\n",
       "      <th>min</th>\n",
       "      <th>25%</th>\n",
       "      <th>50%</th>\n",
       "      <th>75%</th>\n",
       "      <th>max</th>\n",
       "    </tr>\n",
       "  </thead>\n",
       "  <tbody>\n",
       "    <tr>\n",
       "      <th>0</th>\n",
       "      <td>AGCR Enclave</td>\n",
       "      <td>2.0</td>\n",
       "      <td>42000.000000</td>\n",
       "      <td>0.000000</td>\n",
       "      <td>42000.0</td>\n",
       "      <td>42000.0</td>\n",
       "      <td>42000.0</td>\n",
       "      <td>42000.0</td>\n",
       "      <td>42000.0</td>\n",
       "    </tr>\n",
       "    <tr>\n",
       "      <th>1</th>\n",
       "      <td>Abul Fazal Enclave Jamia Nagar</td>\n",
       "      <td>3.0</td>\n",
       "      <td>14833.333333</td>\n",
       "      <td>1755.942292</td>\n",
       "      <td>13000.0</td>\n",
       "      <td>14000.0</td>\n",
       "      <td>15000.0</td>\n",
       "      <td>15750.0</td>\n",
       "      <td>16500.0</td>\n",
       "    </tr>\n",
       "    <tr>\n",
       "      <th>2</th>\n",
       "      <td>Ajmeri Gate</td>\n",
       "      <td>2.0</td>\n",
       "      <td>21000.000000</td>\n",
       "      <td>4242.640687</td>\n",
       "      <td>18000.0</td>\n",
       "      <td>19500.0</td>\n",
       "      <td>21000.0</td>\n",
       "      <td>22500.0</td>\n",
       "      <td>24000.0</td>\n",
       "    </tr>\n",
       "    <tr>\n",
       "      <th>3</th>\n",
       "      <td>Alaknanda</td>\n",
       "      <td>2.0</td>\n",
       "      <td>15500.000000</td>\n",
       "      <td>6363.961031</td>\n",
       "      <td>11000.0</td>\n",
       "      <td>13250.0</td>\n",
       "      <td>15500.0</td>\n",
       "      <td>17750.0</td>\n",
       "      <td>20000.0</td>\n",
       "    </tr>\n",
       "    <tr>\n",
       "      <th>4</th>\n",
       "      <td>Amritpuri</td>\n",
       "      <td>3.0</td>\n",
       "      <td>11000.000000</td>\n",
       "      <td>0.000000</td>\n",
       "      <td>11000.0</td>\n",
       "      <td>11000.0</td>\n",
       "      <td>11000.0</td>\n",
       "      <td>11000.0</td>\n",
       "      <td>11000.0</td>\n",
       "    </tr>\n",
       "    <tr>\n",
       "      <th>...</th>\n",
       "      <td>...</td>\n",
       "      <td>...</td>\n",
       "      <td>...</td>\n",
       "      <td>...</td>\n",
       "      <td>...</td>\n",
       "      <td>...</td>\n",
       "      <td>...</td>\n",
       "      <td>...</td>\n",
       "      <td>...</td>\n",
       "    </tr>\n",
       "    <tr>\n",
       "      <th>270</th>\n",
       "      <td>i p extension patparganj</td>\n",
       "      <td>5.0</td>\n",
       "      <td>20400.000000</td>\n",
       "      <td>3781.534080</td>\n",
       "      <td>18000.0</td>\n",
       "      <td>18000.0</td>\n",
       "      <td>19000.0</td>\n",
       "      <td>20000.0</td>\n",
       "      <td>27000.0</td>\n",
       "    </tr>\n",
       "    <tr>\n",
       "      <th>271</th>\n",
       "      <td>laxmi nagar</td>\n",
       "      <td>23.0</td>\n",
       "      <td>18130.434783</td>\n",
       "      <td>3850.080847</td>\n",
       "      <td>6500.0</td>\n",
       "      <td>20000.0</td>\n",
       "      <td>20000.0</td>\n",
       "      <td>20000.0</td>\n",
       "      <td>20000.0</td>\n",
       "    </tr>\n",
       "    <tr>\n",
       "      <th>272</th>\n",
       "      <td>masoodpur</td>\n",
       "      <td>2.0</td>\n",
       "      <td>28000.000000</td>\n",
       "      <td>9899.494937</td>\n",
       "      <td>21000.0</td>\n",
       "      <td>24500.0</td>\n",
       "      <td>28000.0</td>\n",
       "      <td>31500.0</td>\n",
       "      <td>35000.0</td>\n",
       "    </tr>\n",
       "    <tr>\n",
       "      <th>273</th>\n",
       "      <td>mayur vihar phase 1</td>\n",
       "      <td>9.0</td>\n",
       "      <td>27111.111111</td>\n",
       "      <td>10231.012223</td>\n",
       "      <td>13500.0</td>\n",
       "      <td>20000.0</td>\n",
       "      <td>24000.0</td>\n",
       "      <td>40000.0</td>\n",
       "      <td>40000.0</td>\n",
       "    </tr>\n",
       "    <tr>\n",
       "      <th>274</th>\n",
       "      <td>vikaspuri</td>\n",
       "      <td>9.0</td>\n",
       "      <td>23855.555556</td>\n",
       "      <td>19787.124040</td>\n",
       "      <td>14900.0</td>\n",
       "      <td>14900.0</td>\n",
       "      <td>17000.0</td>\n",
       "      <td>19000.0</td>\n",
       "      <td>76000.0</td>\n",
       "    </tr>\n",
       "  </tbody>\n",
       "</table>\n",
       "<p>275 rows × 9 columns</p>\n",
       "</div>"
      ],
      "text/plain": [
       "                           location  count          mean           std   \n",
       "0                      AGCR Enclave    2.0  42000.000000      0.000000  \\\n",
       "1    Abul Fazal Enclave Jamia Nagar    3.0  14833.333333   1755.942292   \n",
       "2                       Ajmeri Gate    2.0  21000.000000   4242.640687   \n",
       "3                         Alaknanda    2.0  15500.000000   6363.961031   \n",
       "4                         Amritpuri    3.0  11000.000000      0.000000   \n",
       "..                              ...    ...           ...           ...   \n",
       "270        i p extension patparganj    5.0  20400.000000   3781.534080   \n",
       "271                     laxmi nagar   23.0  18130.434783   3850.080847   \n",
       "272                       masoodpur    2.0  28000.000000   9899.494937   \n",
       "273             mayur vihar phase 1    9.0  27111.111111  10231.012223   \n",
       "274                       vikaspuri    9.0  23855.555556  19787.124040   \n",
       "\n",
       "         min      25%      50%      75%      max  \n",
       "0    42000.0  42000.0  42000.0  42000.0  42000.0  \n",
       "1    13000.0  14000.0  15000.0  15750.0  16500.0  \n",
       "2    18000.0  19500.0  21000.0  22500.0  24000.0  \n",
       "3    11000.0  13250.0  15500.0  17750.0  20000.0  \n",
       "4    11000.0  11000.0  11000.0  11000.0  11000.0  \n",
       "..       ...      ...      ...      ...      ...  \n",
       "270  18000.0  18000.0  19000.0  20000.0  27000.0  \n",
       "271   6500.0  20000.0  20000.0  20000.0  20000.0  \n",
       "272  21000.0  24500.0  28000.0  31500.0  35000.0  \n",
       "273  13500.0  20000.0  24000.0  40000.0  40000.0  \n",
       "274  14900.0  14900.0  17000.0  19000.0  76000.0  \n",
       "\n",
       "[275 rows x 9 columns]"
      ]
     },
     "execution_count": 37,
     "metadata": {},
     "output_type": "execute_result"
    }
   ],
   "source": [
    "df.groupby(\"location\").price.describe().reset_index()"
   ]
  },
  {
   "cell_type": "code",
   "execution_count": 38,
   "id": "8dd39505",
   "metadata": {},
   "outputs": [
    {
     "data": {
      "text/plain": [
       "location\n",
       "Sector 34 Rohini         3600.000000\n",
       "dda flat                 4500.000000\n",
       "Santnagar                4999.000000\n",
       "Shakurpur Colony         5000.000000\n",
       "Burari                   5833.333333\n",
       "                           ...      \n",
       "Shanti Niketan         401820.880000\n",
       "Ghitorni               402639.021739\n",
       "Sainik Farm            420364.973333\n",
       "Sat Bari               600000.000000\n",
       "Vasant Kunj Enclave    700000.000000\n",
       "Name: price, Length: 275, dtype: float64"
      ]
     },
     "execution_count": 38,
     "metadata": {},
     "output_type": "execute_result"
    }
   ],
   "source": [
    "df.groupby(\"location\").price.mean().sort_values()"
   ]
  },
  {
   "cell_type": "code",
   "execution_count": 39,
   "id": "b1bbb8ef",
   "metadata": {},
   "outputs": [
    {
     "data": {
      "image/png": "[encoded data removed]",
      "text/plain": [
       "<Figure size 1200x600 with 1 Axes>"
      ]
     },
     "metadata": {},
     "output_type": "display_data"
    }
   ],
   "source": [
    "mean_prices = df.groupby('location')['price'].mean().reset_index().head(10)\n",
    "mean_prices_sorted = mean_prices.sort_values(by='price', ascending=False)\n",
    "plt.figure(figsize=(12, 6))\n",
    "sns.barplot(x='location', y='price', data=mean_prices_sorted)\n",
    "plt.title('Mean Price by Location')\n",
    "plt.xlabel('Location')\n",
    "plt.ylabel('Mean Price')\n",
    "plt.xticks(rotation=90)  # Rotate x-axis labels for better readability\n",
    "plt.tight_layout()\n",
    "plt.show()"
   ]
  },
  {
   "cell_type": "code",
   "execution_count": 40,
   "id": "4c448d75",
   "metadata": {},
   "outputs": [
    {
     "data": {
      "image/png": "[encoded data removed]",
      "text/plain": [
       "<Figure size 1000x1000 with 20 Axes>"
      ]
     },
     "metadata": {},
     "output_type": "display_data"
    }
   ],
   "source": [
    "sns.pairplot(df)\n",
    "plt.show()"
   ]
  },
  {
   "cell_type": "code",
   "execution_count": 41,
   "id": "d4a07e42",
   "metadata": {},
   "outputs": [
    {
     "data": {
      "image/png": "[encoded data removed]",
      "text/plain": [
       "<Figure size 640x480 with 2 Axes>"
      ]
     },
     "metadata": {},
     "output_type": "display_data"
    }
   ],
   "source": [
    "numerical_columns = df.select_dtypes(include=['int64', 'float64','int'])\n",
    "correlation_matrix = numerical_columns.corr()\n",
    "sns.heatmap(correlation_matrix, annot=True, cmap='coolwarm', fmt=\".2f\")\n",
    "plt.title('Correlation Heatmap')\n",
    "plt.show()"
   ]
  },
  {
   "cell_type": "code",
   "execution_count": 42,
   "id": "5aa1c881",
   "metadata": {},
   "outputs": [
    {
     "data": {
      "image/png": "[encoded data removed]",
      "text/plain": [
       "<Figure size 1200x600 with 1 Axes>"
      ]
     },
     "metadata": {},
     "output_type": "display_data"
    }
   ],
   "source": [
    "plt.figure(figsize=(12,6))\n",
    "sns.histplot(df[\"price\"],bins=50)\n",
    "plt.show()"
   ]
  },
  {
   "cell_type": "markdown",
   "id": "0fc5ad9e",
   "metadata": {},
   "source": [
    "# Scaling the data"
   ]
  },
  {
   "cell_type": "code",
   "execution_count": 43,
   "id": "932b3713",
   "metadata": {},
   "outputs": [],
   "source": [
    "from sklearn.preprocessing import MinMaxScaler\n",
    "sc = MinMaxScaler()\n",
    "numerical_columns = [\"price\"]\n",
    "df[numerical_columns] = sc.fit_transform(df[numerical_columns])"
   ]
  },
  {
   "cell_type": "code",
   "execution_count": 44,
   "id": "c7456048",
   "metadata": {},
   "outputs": [
    {
     "data": {
      "text/html": [
       "<div>\n",
       "<style scoped>\n",
       "    .dataframe tbody tr th:only-of-type {\n",
       "        vertical-align: middle;\n",
       "    }\n",
       "\n",
       "    .dataframe tbody tr th {\n",
       "        vertical-align: top;\n",
       "    }\n",
       "\n",
       "    .dataframe thead th {\n",
       "        text-align: right;\n",
       "    }\n",
       "</style>\n",
       "<table border=\"1\" class=\"dataframe\">\n",
       "  <thead>\n",
       "    <tr style=\"text-align: right;\">\n",
       "      <th></th>\n",
       "      <th>location</th>\n",
       "      <th>price</th>\n",
       "      <th>Status</th>\n",
       "      <th>bhk</th>\n",
       "      <th>Type</th>\n",
       "      <th>bath</th>\n",
       "      <th>balcony</th>\n",
       "    </tr>\n",
       "  </thead>\n",
       "  <tbody>\n",
       "    <tr>\n",
       "      <th>0</th>\n",
       "      <td>Kalkaji</td>\n",
       "      <td>0.027088</td>\n",
       "      <td>Furnished</td>\n",
       "      <td>1</td>\n",
       "      <td>Apartment</td>\n",
       "      <td>1.0</td>\n",
       "      <td>1.0</td>\n",
       "    </tr>\n",
       "    <tr>\n",
       "      <th>1</th>\n",
       "      <td>Mansarover Garden</td>\n",
       "      <td>0.024237</td>\n",
       "      <td>Furnished</td>\n",
       "      <td>1</td>\n",
       "      <td>Apartment</td>\n",
       "      <td>1.0</td>\n",
       "      <td>1.0</td>\n",
       "    </tr>\n",
       "    <tr>\n",
       "      <th>2</th>\n",
       "      <td>Uttam Nagar</td>\n",
       "      <td>0.007841</td>\n",
       "      <td>Semi-Furnished</td>\n",
       "      <td>2</td>\n",
       "      <td>Floor</td>\n",
       "      <td>1.0</td>\n",
       "      <td>2.0</td>\n",
       "    </tr>\n",
       "    <tr>\n",
       "      <th>3</th>\n",
       "      <td>Model Town</td>\n",
       "      <td>0.064157</td>\n",
       "      <td>Furnished</td>\n",
       "      <td>3</td>\n",
       "      <td>House</td>\n",
       "      <td>3.0</td>\n",
       "      <td>3.0</td>\n",
       "    </tr>\n",
       "    <tr>\n",
       "      <th>4</th>\n",
       "      <td>Sector 13 Rohini</td>\n",
       "      <td>0.024237</td>\n",
       "      <td>Unfurnished</td>\n",
       "      <td>2</td>\n",
       "      <td>Apartment</td>\n",
       "      <td>2.0</td>\n",
       "      <td>2.0</td>\n",
       "    </tr>\n",
       "  </tbody>\n",
       "</table>\n",
       "</div>"
      ],
      "text/plain": [
       "            location     price          Status  bhk       Type  bath  balcony\n",
       "0            Kalkaji  0.027088       Furnished    1  Apartment   1.0      1.0\n",
       "1  Mansarover Garden  0.024237       Furnished    1  Apartment   1.0      1.0\n",
       "2        Uttam Nagar  0.007841  Semi-Furnished    2      Floor   1.0      2.0\n",
       "3         Model Town  0.064157       Furnished    3      House   3.0      3.0\n",
       "4   Sector 13 Rohini  0.024237     Unfurnished    2  Apartment   2.0      2.0"
      ]
     },
     "execution_count": 44,
     "metadata": {},
     "output_type": "execute_result"
    }
   ],
   "source": [
    "df.head()"
   ]
  },
  {
   "cell_type": "code",
   "execution_count": 45,
   "id": "2e44e976",
   "metadata": {},
   "outputs": [
    {
     "data": {
      "text/plain": [
       "275"
      ]
     },
     "execution_count": 45,
     "metadata": {},
     "output_type": "execute_result"
    }
   ],
   "source": [
    "df['location'].nunique()"
   ]
  },
  {
   "cell_type": "code",
   "execution_count": 46,
   "id": "ba52a26b",
   "metadata": {},
   "outputs": [
    {
     "data": {
      "text/plain": [
       "3"
      ]
     },
     "execution_count": 46,
     "metadata": {},
     "output_type": "execute_result"
    }
   ],
   "source": [
    "df['Status'].nunique()"
   ]
  },
  {
   "cell_type": "code",
   "execution_count": 47,
   "id": "22c94c48",
   "metadata": {},
   "outputs": [
    {
     "data": {
      "text/plain": [
       "Status\n",
       "Unfurnished       2155\n",
       "Semi-Furnished    1915\n",
       "Furnished          733\n",
       "Name: count, dtype: int64"
      ]
     },
     "execution_count": 47,
     "metadata": {},
     "output_type": "execute_result"
    }
   ],
   "source": [
    "df['Status'].value_counts()"
   ]
  },
  {
   "cell_type": "code",
   "execution_count": 48,
   "id": "e6b2046a",
   "metadata": {},
   "outputs": [
    {
     "data": {
      "text/plain": [
       "5"
      ]
     },
     "execution_count": 48,
     "metadata": {},
     "output_type": "execute_result"
    }
   ],
   "source": [
    "df['Type'].nunique()"
   ]
  },
  {
   "cell_type": "code",
   "execution_count": 49,
   "id": "f09b241f",
   "metadata": {},
   "outputs": [
    {
     "data": {
      "text/plain": [
       "Type\n",
       "Floor        3258\n",
       "Apartment     986\n",
       "Villa         322\n",
       "House         236\n",
       "penthouse       1\n",
       "Name: count, dtype: int64"
      ]
     },
     "execution_count": 49,
     "metadata": {},
     "output_type": "execute_result"
    }
   ],
   "source": [
    "df['Type'].value_counts()"
   ]
  },
  {
   "cell_type": "markdown",
   "id": "d3b10271",
   "metadata": {},
   "source": [
    "# One Hot Encoding for categorical variables"
   ]
  },
  {
   "cell_type": "code",
   "execution_count": 50,
   "id": "5bc349ac",
   "metadata": {},
   "outputs": [],
   "source": [
    "from sklearn.preprocessing import LabelEncoder"
   ]
  },
  {
   "cell_type": "code",
   "execution_count": 51,
   "id": "e5922bc4",
   "metadata": {},
   "outputs": [
    {
     "data": {
      "text/plain": [
       "dtype('int32')"
      ]
     },
     "execution_count": 51,
     "metadata": {},
     "output_type": "execute_result"
    }
   ],
   "source": [
    "le_location = LabelEncoder()\n",
    "df['location'] = le_location.fit_transform(df['location'])\n",
    "df['location'].dtype"
   ]
  },
  {
   "cell_type": "code",
   "execution_count": 52,
   "id": "e3aad8be",
   "metadata": {},
   "outputs": [
    {
     "data": {
      "text/plain": [
       "dtype('int32')"
      ]
     },
     "execution_count": 52,
     "metadata": {},
     "output_type": "execute_result"
    }
   ],
   "source": [
    "le_Status = LabelEncoder()\n",
    "df['Status'] = le_Status.fit_transform(df['Status'])\n",
    "df['Status'].dtype"
   ]
  },
  {
   "cell_type": "code",
   "execution_count": 53,
   "id": "5658a933",
   "metadata": {},
   "outputs": [
    {
     "data": {
      "text/plain": [
       "dtype('int32')"
      ]
     },
     "execution_count": 53,
     "metadata": {},
     "output_type": "execute_result"
    }
   ],
   "source": [
    "le_Type = LabelEncoder()\n",
    "df['Type'] = le_Type.fit_transform(df['Type'])\n",
    "df['Type'].dtype"
   ]
  },
  {
   "cell_type": "code",
   "execution_count": 54,
   "id": "0146c020",
   "metadata": {},
   "outputs": [
    {
     "name": "stdout",
     "output_type": "stream",
     "text": [
      "<class 'pandas.core.frame.DataFrame'>\n",
      "Index: 4803 entries, 0 to 4999\n",
      "Data columns (total 7 columns):\n",
      " #   Column    Non-Null Count  Dtype  \n",
      "---  ------    --------------  -----  \n",
      " 0   location  4803 non-null   int32  \n",
      " 1   price     4803 non-null   float64\n",
      " 2   Status    4803 non-null   int32  \n",
      " 3   bhk       4803 non-null   int32  \n",
      " 4   Type      4803 non-null   int32  \n",
      " 5   bath      4803 non-null   float64\n",
      " 6   balcony   4803 non-null   float64\n",
      "dtypes: float64(3), int32(4)\n",
      "memory usage: 225.1 KB\n"
     ]
    }
   ],
   "source": [
    "df.info()"
   ]
  },
  {
   "cell_type": "code",
   "execution_count": 55,
   "id": "f7431ea8",
   "metadata": {},
   "outputs": [
    {
     "data": {
      "text/html": [
       "<div>\n",
       "<style scoped>\n",
       "    .dataframe tbody tr th:only-of-type {\n",
       "        vertical-align: middle;\n",
       "    }\n",
       "\n",
       "    .dataframe tbody tr th {\n",
       "        vertical-align: top;\n",
       "    }\n",
       "\n",
       "    .dataframe thead th {\n",
       "        text-align: right;\n",
       "    }\n",
       "</style>\n",
       "<table border=\"1\" class=\"dataframe\">\n",
       "  <thead>\n",
       "    <tr style=\"text-align: right;\">\n",
       "      <th></th>\n",
       "      <th>location</th>\n",
       "      <th>price</th>\n",
       "      <th>Status</th>\n",
       "      <th>bhk</th>\n",
       "      <th>Type</th>\n",
       "      <th>bath</th>\n",
       "      <th>balcony</th>\n",
       "    </tr>\n",
       "  </thead>\n",
       "  <tbody>\n",
       "    <tr>\n",
       "      <th>0</th>\n",
       "      <td>84</td>\n",
       "      <td>0.027088</td>\n",
       "      <td>0</td>\n",
       "      <td>1</td>\n",
       "      <td>0</td>\n",
       "      <td>1.0</td>\n",
       "      <td>1.0</td>\n",
       "    </tr>\n",
       "    <tr>\n",
       "      <th>1</th>\n",
       "      <td>115</td>\n",
       "      <td>0.024237</td>\n",
       "      <td>0</td>\n",
       "      <td>1</td>\n",
       "      <td>0</td>\n",
       "      <td>1.0</td>\n",
       "      <td>1.0</td>\n",
       "    </tr>\n",
       "    <tr>\n",
       "      <th>2</th>\n",
       "      <td>247</td>\n",
       "      <td>0.007841</td>\n",
       "      <td>1</td>\n",
       "      <td>2</td>\n",
       "      <td>1</td>\n",
       "      <td>1.0</td>\n",
       "      <td>2.0</td>\n",
       "    </tr>\n",
       "    <tr>\n",
       "      <th>3</th>\n",
       "      <td>124</td>\n",
       "      <td>0.064157</td>\n",
       "      <td>0</td>\n",
       "      <td>3</td>\n",
       "      <td>2</td>\n",
       "      <td>3.0</td>\n",
       "      <td>3.0</td>\n",
       "    </tr>\n",
       "    <tr>\n",
       "      <th>4</th>\n",
       "      <td>191</td>\n",
       "      <td>0.024237</td>\n",
       "      <td>2</td>\n",
       "      <td>2</td>\n",
       "      <td>0</td>\n",
       "      <td>2.0</td>\n",
       "      <td>2.0</td>\n",
       "    </tr>\n",
       "  </tbody>\n",
       "</table>\n",
       "</div>"
      ],
      "text/plain": [
       "   location     price  Status  bhk  Type  bath  balcony\n",
       "0        84  0.027088       0    1     0   1.0      1.0\n",
       "1       115  0.024237       0    1     0   1.0      1.0\n",
       "2       247  0.007841       1    2     1   1.0      2.0\n",
       "3       124  0.064157       0    3     2   3.0      3.0\n",
       "4       191  0.024237       2    2     0   2.0      2.0"
      ]
     },
     "execution_count": 55,
     "metadata": {},
     "output_type": "execute_result"
    }
   ],
   "source": [
    "df.head()"
   ]
  },
  {
   "cell_type": "markdown",
   "id": "864a2860",
   "metadata": {},
   "source": [
    "# MODEL TRAINING AND TESTING"
   ]
  },
  {
   "cell_type": "code",
   "execution_count": 56,
   "id": "0185e6a2",
   "metadata": {},
   "outputs": [],
   "source": [
    "from sklearn.model_selection import train_test_split"
   ]
  },
  {
   "cell_type": "code",
   "execution_count": 57,
   "id": "b1850562",
   "metadata": {},
   "outputs": [],
   "source": [
    "X = df.drop(columns=['price'])\n",
    "Y = df['price']\n",
    "X_train, X_test, Y_train, Y_test = train_test_split(X, Y, test_size=0.2, random_state=42)"
   ]
  },
  {
   "cell_type": "code",
   "execution_count": 58,
   "id": "a466f7fe",
   "metadata": {},
   "outputs": [
    {
     "data": {
      "text/html": [
       "<div>\n",
       "<style scoped>\n",
       "    .dataframe tbody tr th:only-of-type {\n",
       "        vertical-align: middle;\n",
       "    }\n",
       "\n",
       "    .dataframe tbody tr th {\n",
       "        vertical-align: top;\n",
       "    }\n",
       "\n",
       "    .dataframe thead th {\n",
       "        text-align: right;\n",
       "    }\n",
       "</style>\n",
       "<table border=\"1\" class=\"dataframe\">\n",
       "  <thead>\n",
       "    <tr style=\"text-align: right;\">\n",
       "      <th></th>\n",
       "      <th>location</th>\n",
       "      <th>Status</th>\n",
       "      <th>bhk</th>\n",
       "      <th>Type</th>\n",
       "      <th>bath</th>\n",
       "      <th>balcony</th>\n",
       "    </tr>\n",
       "  </thead>\n",
       "  <tbody>\n",
       "    <tr>\n",
       "      <th>0</th>\n",
       "      <td>84</td>\n",
       "      <td>0</td>\n",
       "      <td>1</td>\n",
       "      <td>0</td>\n",
       "      <td>1.0</td>\n",
       "      <td>1.0</td>\n",
       "    </tr>\n",
       "    <tr>\n",
       "      <th>1</th>\n",
       "      <td>115</td>\n",
       "      <td>0</td>\n",
       "      <td>1</td>\n",
       "      <td>0</td>\n",
       "      <td>1.0</td>\n",
       "      <td>1.0</td>\n",
       "    </tr>\n",
       "    <tr>\n",
       "      <th>2</th>\n",
       "      <td>247</td>\n",
       "      <td>1</td>\n",
       "      <td>2</td>\n",
       "      <td>1</td>\n",
       "      <td>1.0</td>\n",
       "      <td>2.0</td>\n",
       "    </tr>\n",
       "    <tr>\n",
       "      <th>3</th>\n",
       "      <td>124</td>\n",
       "      <td>0</td>\n",
       "      <td>3</td>\n",
       "      <td>2</td>\n",
       "      <td>3.0</td>\n",
       "      <td>3.0</td>\n",
       "    </tr>\n",
       "    <tr>\n",
       "      <th>4</th>\n",
       "      <td>191</td>\n",
       "      <td>2</td>\n",
       "      <td>2</td>\n",
       "      <td>0</td>\n",
       "      <td>2.0</td>\n",
       "      <td>2.0</td>\n",
       "    </tr>\n",
       "  </tbody>\n",
       "</table>\n",
       "</div>"
      ],
      "text/plain": [
       "   location  Status  bhk  Type  bath  balcony\n",
       "0        84       0    1     0   1.0      1.0\n",
       "1       115       0    1     0   1.0      1.0\n",
       "2       247       1    2     1   1.0      2.0\n",
       "3       124       0    3     2   3.0      3.0\n",
       "4       191       2    2     0   2.0      2.0"
      ]
     },
     "execution_count": 58,
     "metadata": {},
     "output_type": "execute_result"
    }
   ],
   "source": [
    "X.head()"
   ]
  },
  {
   "cell_type": "code",
   "execution_count": 59,
   "id": "e290e4f4",
   "metadata": {},
   "outputs": [
    {
     "data": {
      "text/plain": [
       "0    0.027088\n",
       "1    0.024237\n",
       "2    0.007841\n",
       "3    0.064157\n",
       "4    0.024237\n",
       "Name: price, dtype: float64"
      ]
     },
     "execution_count": 59,
     "metadata": {},
     "output_type": "execute_result"
    }
   ],
   "source": [
    "Y.head()"
   ]
  },
  {
   "cell_type": "code",
   "execution_count": 60,
   "id": "ec24bccd",
   "metadata": {},
   "outputs": [],
   "source": [
    "from sklearn.ensemble import RandomForestRegressor"
   ]
  },
  {
   "cell_type": "code",
   "execution_count": 61,
   "id": "d2e327cb",
   "metadata": {},
   "outputs": [],
   "source": [
    "rf = RandomForestRegressor(n_estimators=100, max_depth=10, random_state=42)"
   ]
  },
  {
   "cell_type": "code",
   "execution_count": 62,
   "id": "dd464395",
   "metadata": {},
   "outputs": [
    {
     "data": {
      "text/html": [
       "<style>#sk-container-id-1 {color: black;background-color: white;}#sk-container-id-1 pre{padding: 0;}#sk-container-id-1 div.sk-toggleable {background-color: white;}#sk-container-id-1 label.sk-toggleable__label {cursor: pointer;display: block;width: 100%;margin-bottom: 0;padding: 0.3em;box-sizing: border-box;text-align: center;}#sk-container-id-1 label.sk-toggleable__label-arrow:before {content: \"▸\";float: left;margin-right: 0.25em;color: #696969;}#sk-container-id-1 label.sk-toggleable__label-arrow:hover:before {color: black;}#sk-container-id-1 div.sk-estimator:hover label.sk-toggleable__label-arrow:before {color: black;}#sk-container-id-1 div.sk-toggleable__content {max-height: 0;max-width: 0;overflow: hidden;text-align: left;background-color: #f0f8ff;}#sk-container-id-1 div.sk-toggleable__content pre {margin: 0.2em;color: black;border-radius: 0.25em;background-color: #f0f8ff;}#sk-container-id-1 input.sk-toggleable__control:checked~div.sk-toggleable__content {max-height: 200px;max-width: 100%;overflow: auto;}#sk-container-id-1 input.sk-toggleable__control:checked~label.sk-toggleable__label-arrow:before {content: \"▾\";}#sk-container-id-1 div.sk-estimator input.sk-toggleable__control:checked~label.sk-toggleable__label {background-color: #d4ebff;}#sk-container-id-1 div.sk-label input.sk-toggleable__control:checked~label.sk-toggleable__label {background-color: #d4ebff;}#sk-container-id-1 input.sk-hidden--visually {border: 0;clip: rect(1px 1px 1px 1px);clip: rect(1px, 1px, 1px, 1px);height: 1px;margin: -1px;overflow: hidden;padding: 0;position: absolute;width: 1px;}#sk-container-id-1 div.sk-estimator {font-family: monospace;background-color: #f0f8ff;border: 1px dotted black;border-radius: 0.25em;box-sizing: border-box;margin-bottom: 0.5em;}#sk-container-id-1 div.sk-estimator:hover {background-color: #d4ebff;}#sk-container-id-1 div.sk-parallel-item::after {content: \"\";width: 100%;border-bottom: 1px solid gray;flex-grow: 1;}#sk-container-id-1 div.sk-label:hover label.sk-toggleable__label {background-color: #d4ebff;}#sk-container-id-1 div.sk-serial::before {content: \"\";position: absolute;border-left: 1px solid gray;box-sizing: border-box;top: 0;bottom: 0;left: 50%;z-index: 0;}#sk-container-id-1 div.sk-serial {display: flex;flex-direction: column;align-items: center;background-color: white;padding-right: 0.2em;padding-left: 0.2em;position: relative;}#sk-container-id-1 div.sk-item {position: relative;z-index: 1;}#sk-container-id-1 div.sk-parallel {display: flex;align-items: stretch;justify-content: center;background-color: white;position: relative;}#sk-container-id-1 div.sk-item::before, #sk-container-id-1 div.sk-parallel-item::before {content: \"\";position: absolute;border-left: 1px solid gray;box-sizing: border-box;top: 0;bottom: 0;left: 50%;z-index: -1;}#sk-container-id-1 div.sk-parallel-item {display: flex;flex-direction: column;z-index: 1;position: relative;background-color: white;}#sk-container-id-1 div.sk-parallel-item:first-child::after {align-self: flex-end;width: 50%;}#sk-container-id-1 div.sk-parallel-item:last-child::after {align-self: flex-start;width: 50%;}#sk-container-id-1 div.sk-parallel-item:only-child::after {width: 0;}#sk-container-id-1 div.sk-dashed-wrapped {border: 1px dashed gray;margin: 0 0.4em 0.5em 0.4em;box-sizing: border-box;padding-bottom: 0.4em;background-color: white;}#sk-container-id-1 div.sk-label label {font-family: monospace;font-weight: bold;display: inline-block;line-height: 1.2em;}#sk-container-id-1 div.sk-label-container {text-align: center;}#sk-container-id-1 div.sk-container {/* jupyter's `normalize.less` sets `[hidden] { display: none; }` but bootstrap.min.css set `[hidden] { display: none !important; }` so we also need the `!important` here to be able to override the default hidden behavior on the sphinx rendered scikit-learn.org. See: https://github.com/scikit-learn/scikit-learn/issues/21755 */display: inline-block !important;position: relative;}#sk-container-id-1 div.sk-text-repr-fallback {display: none;}</style><div id=\"sk-container-id-1\" class=\"sk-top-container\"><div class=\"sk-text-repr-fallback\"><pre>RandomForestRegressor(max_depth=10, random_state=42)</pre><b>In a Jupyter environment, please rerun this cell to show the HTML representation or trust the notebook. <br />On GitHub, the HTML representation is unable to render, please try loading this page with nbviewer.org.</b></div><div class=\"sk-container\" hidden><div class=\"sk-item\"><div class=\"sk-estimator sk-toggleable\"><input class=\"sk-toggleable__control sk-hidden--visually\" id=\"sk-estimator-id-1\" type=\"checkbox\" checked><label for=\"sk-estimator-id-1\" class=\"sk-toggleable__label sk-toggleable__label-arrow\">RandomForestRegressor</label><div class=\"sk-toggleable__content\"><pre>RandomForestRegressor(max_depth=10, random_state=42)</pre></div></div></div></div></div>"
      ],
      "text/plain": [
       "RandomForestRegressor(max_depth=10, random_state=42)"
      ]
     },
     "execution_count": 62,
     "metadata": {},
     "output_type": "execute_result"
    }
   ],
   "source": [
    "rf.fit(X_train, Y_train)"
   ]
  },
  {
   "cell_type": "code",
   "execution_count": 63,
   "id": "f1f9b00d",
   "metadata": {},
   "outputs": [],
   "source": [
    "Y_predicted = rf.predict(X_test)"
   ]
  },
  {
   "cell_type": "code",
   "execution_count": 64,
   "id": "c44f2522",
   "metadata": {},
   "outputs": [
    {
     "data": {
      "text/plain": [
       "0.8866603310883823"
      ]
     },
     "execution_count": 64,
     "metadata": {},
     "output_type": "execute_result"
    }
   ],
   "source": [
    "rf.score(X_test,Y_test)"
   ]
  },
  {
   "cell_type": "code",
   "execution_count": 65,
   "id": "bec1a9aa",
   "metadata": {},
   "outputs": [],
   "source": [
    "from sklearn.metrics import mean_squared_error, r2_score"
   ]
  },
  {
   "cell_type": "code",
   "execution_count": 66,
   "id": "d5721e8f",
   "metadata": {},
   "outputs": [
    {
     "name": "stdout",
     "output_type": "stream",
     "text": [
      "MSE: 0.006349603877957185, R2 Score: 0.8866603310883823\n"
     ]
    }
   ],
   "source": [
    "mse = mean_squared_error(Y_test, Y_predicted)\n",
    "r2 = r2_score(Y_test, Y_predicted)\n",
    "print(f\"MSE: {mse}, R2 Score: {r2}\")"
   ]
  },
  {
   "cell_type": "code",
   "execution_count": 67,
   "id": "4a5375d5",
   "metadata": {},
   "outputs": [
    {
     "data": {
      "image/png": "[encoded data removed]",
      "text/plain": [
       "<Figure size 1000x600 with 1 Axes>"
      ]
     },
     "metadata": {},
     "output_type": "display_data"
    }
   ],
   "source": [
    "plt.figure(figsize=(10, 6))\n",
    "plt.scatter(Y_test, Y_predicted, color='blue', label='Predicted')\n",
    "plt.plot([min(Y_test), max(Y_test)], [min(Y_test), max(Y_test)], color='red', linestyle='--', label='Actual')\n",
    "plt.title(\"Random Forest Regression - Actual vs. Predicted\")\n",
    "plt.xlabel(\"Actual Price\")\n",
    "plt.ylabel(\"Predicted Price\")\n",
    "plt.legend()\n",
    "plt.show()"
   ]
  },
  {
   "cell_type": "code",
   "execution_count": 68,
   "id": "69ffd81e",
   "metadata": {},
   "outputs": [],
   "source": [
    "# testing the model"
   ]
  },
  {
   "cell_type": "code",
   "execution_count": 69,
   "id": "5b3c9406",
   "metadata": {},
   "outputs": [
    {
     "data": {
      "text/plain": [
       "array([['Hauz Khas', 'Semi-Furnished', '3', 'Villa', '2', '3']],\n",
       "      dtype='<U14')"
      ]
     },
     "execution_count": 69,
     "metadata": {},
     "output_type": "execute_result"
    }
   ],
   "source": [
    "XINPUT = np.array([['Hauz Khas','Semi-Furnished',3,'Villa',2,3]])\n",
    "XINPUT"
   ]
  },
  {
   "cell_type": "code",
   "execution_count": 70,
   "id": "2d540000",
   "metadata": {},
   "outputs": [],
   "source": [
    "XINPUT[:,0]=le_location.transform(XINPUT[:,0])\n",
    "XINPUT[:,1]=le_Status.transform(XINPUT[:,1])\n",
    "XINPUT[:,3]=le_Type.transform(XINPUT[:,3])\n",
    "XINPUT=XINPUT.astype('float')"
   ]
  },
  {
   "cell_type": "code",
   "execution_count": 74,
   "id": "f9f02f28",
   "metadata": {},
   "outputs": [
    {
     "data": {
      "text/plain": [
       "array([0.09838161])"
      ]
     },
     "execution_count": 74,
     "metadata": {},
     "output_type": "execute_result"
    }
   ],
   "source": [
    "rf.predict(XINPUT)"
   ]
  },
  {
   "cell_type": "code",
   "execution_count": 75,
   "id": "5712105e",
   "metadata": {},
   "outputs": [
    {
     "data": {
      "text/plain": [
       "array([98.38160707])"
      ]
     },
     "execution_count": 75,
     "metadata": {},
     "output_type": "execute_result"
    }
   ],
   "source": [
    "# convert this price in lacs by multiplying it by 1000\n",
    "rf.predict(XINPUT) * 1000"
   ]
  },
  {
   "cell_type": "markdown",
   "id": "0c4b4435",
   "metadata": {},
   "source": [
    "# Loading appropriate model and class objects into pickle file"
   ]
  },
  {
   "cell_type": "code",
   "execution_count": 77,
   "id": "e2bc6055",
   "metadata": {},
   "outputs": [],
   "source": [
    "import pickle"
   ]
  },
  {
   "cell_type": "code",
   "execution_count": 78,
   "id": "c8fa3348",
   "metadata": {},
   "outputs": [],
   "source": [
    "data = {\"model\":rf, \"le_location\":le_location, \"le_Status\":le_Status, \"le_Type\":le_Type}\n",
    "with open('saved_steps_of_delhi_prediction.pkl','wb') as file:\n",
    "    pickle.dump(data,file)"
   ]
  },
  {
   "cell_type": "code",
   "execution_count": 79,
   "id": "204507bb",
   "metadata": {},
   "outputs": [],
   "source": [
    "with open('saved_steps_of_delhi_prediction.pkl','rb') as file:\n",
    "    data = pickle.load(file)\n",
    "    \n",
    "random_forest_regressor = data[\"model\"]\n",
    "le_location = data[\"le_location\"]\n",
    "le_Status = data[\"le_Status\"]\n",
    "le_Type = data[\"le_Type\"]"
   ]
  },
  {
   "cell_type": "code",
   "execution_count": 81,
   "id": "7d6012bc",
   "metadata": {},
   "outputs": [
    {
     "data": {
      "text/plain": [
       "array([0.09838161])"
      ]
     },
     "execution_count": 81,
     "metadata": {},
     "output_type": "execute_result"
    }
   ],
   "source": [
    "random_forest_regressor.predict(XINPUT)"
   ]
  },
  {
   "cell_type": "code",
   "execution_count": 82,
   "id": "b066fd0e",
   "metadata": {},
   "outputs": [
    {
     "data": {
      "text/plain": [
       "array([98.38160707])"
      ]
     },
     "execution_count": 82,
     "metadata": {},
     "output_type": "execute_result"
    }
   ],
   "source": [
    "random_forest_regressor.predict(XINPUT) * 1000"
   ]
  }
 ],
 "metadata": {
  "kernelspec": {
   "display_name": "Python 3 (ipykernel)",
   "language": "python",
   "name": "python3"
  },
  "language_info": {
   "codemirror_mode": {
    "name": "ipython",
    "version": 3
   },
   "file_extension": ".py",
   "mimetype": "text/x-python",
   "name": "python",
   "nbconvert_exporter": "python",
   "pygments_lexer": "ipython3",
   "version": "3.10.6"
  }
 },
 "nbformat": 4,
 "nbformat_minor": 5
}
